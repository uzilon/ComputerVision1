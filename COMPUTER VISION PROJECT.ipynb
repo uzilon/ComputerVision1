{
 "cells": [
  {
   "cell_type": "markdown",
   "id": "f68ab195",
   "metadata": {},
   "source": [
    "## Hand & Pose Detection"
   ]
  },
  {
   "cell_type": "code",
   "execution_count": 1,
   "id": "bf2e0797",
   "metadata": {},
   "outputs": [
    {
     "name": "stdout",
     "output_type": "stream",
     "text": [
      "Defaulting to user installation because normal site-packages is not writeableNote: you may need to restart the kernel to use updated packages.\n",
      "\n",
      "Collecting mediapipe\n",
      "  Using cached mediapipe-0.10.9-cp311-cp311-win_amd64.whl (50.5 MB)\n",
      "Collecting absl-py (from mediapipe)\n",
      "  Using cached absl_py-2.1.0-py3-none-any.whl (133 kB)\n",
      "Requirement already satisfied: attrs>=19.1.0 in c:\\programdata\\anaconda3\\lib\\site-packages (from mediapipe) (22.1.0)\n",
      "Requirement already satisfied: flatbuffers>=2.0 in c:\\users\\buypc computers\\appdata\\roaming\\python\\python311\\site-packages (from mediapipe) (23.5.26)\n",
      "Requirement already satisfied: matplotlib in c:\\programdata\\anaconda3\\lib\\site-packages (from mediapipe) (3.7.1)\n",
      "Requirement already satisfied: numpy in c:\\programdata\\anaconda3\\lib\\site-packages (from mediapipe) (1.24.3)\n",
      "Collecting opencv-contrib-python (from mediapipe)\n",
      "  Using cached opencv_contrib_python-4.9.0.80-cp37-abi3-win_amd64.whl (45.3 MB)\n",
      "Requirement already satisfied: protobuf<4,>=3.11 in c:\\users\\buypc computers\\appdata\\roaming\\python\\python311\\site-packages (from mediapipe) (3.20.3)\n",
      "Collecting sounddevice>=0.4.4 (from mediapipe)\n",
      "  Using cached sounddevice-0.4.6-py3-none-win_amd64.whl (199 kB)\n",
      "Requirement already satisfied: CFFI>=1.0 in c:\\programdata\\anaconda3\\lib\\site-packages (from sounddevice>=0.4.4->mediapipe) (1.15.1)\n",
      "Requirement already satisfied: contourpy>=1.0.1 in c:\\programdata\\anaconda3\\lib\\site-packages (from matplotlib->mediapipe) (1.0.5)\n",
      "Requirement already satisfied: cycler>=0.10 in c:\\programdata\\anaconda3\\lib\\site-packages (from matplotlib->mediapipe) (0.11.0)\n",
      "Requirement already satisfied: fonttools>=4.22.0 in c:\\programdata\\anaconda3\\lib\\site-packages (from matplotlib->mediapipe) (4.25.0)\n",
      "Requirement already satisfied: kiwisolver>=1.0.1 in c:\\programdata\\anaconda3\\lib\\site-packages (from matplotlib->mediapipe) (1.4.4)\n",
      "Requirement already satisfied: packaging>=20.0 in c:\\programdata\\anaconda3\\lib\\site-packages (from matplotlib->mediapipe) (23.0)\n",
      "Requirement already satisfied: pillow>=6.2.0 in c:\\programdata\\anaconda3\\lib\\site-packages (from matplotlib->mediapipe) (9.4.0)\n",
      "Requirement already satisfied: pyparsing>=2.3.1 in c:\\programdata\\anaconda3\\lib\\site-packages (from matplotlib->mediapipe) (3.0.9)\n",
      "Requirement already satisfied: python-dateutil>=2.7 in c:\\programdata\\anaconda3\\lib\\site-packages (from matplotlib->mediapipe) (2.8.2)\n",
      "Requirement already satisfied: pycparser in c:\\programdata\\anaconda3\\lib\\site-packages (from CFFI>=1.0->sounddevice>=0.4.4->mediapipe) (2.21)\n",
      "Requirement already satisfied: six>=1.5 in c:\\programdata\\anaconda3\\lib\\site-packages (from python-dateutil>=2.7->matplotlib->mediapipe) (1.16.0)\n",
      "Installing collected packages: opencv-contrib-python, absl-py, sounddevice, mediapipe\n",
      "Successfully installed absl-py-2.1.0 mediapipe-0.10.9 opencv-contrib-python-4.9.0.80 sounddevice-0.4.6\n"
     ]
    }
   ],
   "source": [
    "pip install mediapipe"
   ]
  },
  {
   "cell_type": "code",
   "execution_count": 30,
   "id": "92f31422",
   "metadata": {},
   "outputs": [],
   "source": [
    "# Import Libraries\n",
    "import cv2\n",
    "import mediapipe as mp"
   ]
  },
  {
   "cell_type": "code",
   "execution_count": 31,
   "id": "7f12c583",
   "metadata": {},
   "outputs": [],
   "source": [
    "# Initialize cv2\n",
    "capture = cv2.VideoCapture(0) #0 for Local Webcam and 1 for External Webcam"
   ]
  },
  {
   "cell_type": "markdown",
   "id": "ba2d90be",
   "metadata": {},
   "source": [
    "### Hand Detection"
   ]
  },
  {
   "cell_type": "code",
   "execution_count": 19,
   "id": "3a7621ed",
   "metadata": {},
   "outputs": [],
   "source": [
    "#Leveraging the Mediapipe library used for hand detection\n",
    "\n",
    "mpHands = mp.solutions.hands\n",
    "hands = mpHands. Hands()\n",
    "mpDraw = mp.solutions.drawing_utils"
   ]
  },
  {
   "cell_type": "code",
   "execution_count": 20,
   "id": "f03b7e60",
   "metadata": {},
   "outputs": [],
   "source": [
    "while True:\n",
    "    _, img = capture.read()\n",
    "\n",
    "    #Convert image from BGR to RGB\n",
    "    imgRGB = cv2.cvtColor(img, cv2.COLOR_BGR2RGB)\n",
    "\n",
    "    #Apply mediapipe\n",
    "    results = hands.process(imgRGB)\n",
    "\n",
    "    #print(results.multi_hand_Landmarks)\n",
    "\n",
    "    if results.multi_hand_landmarks:\n",
    "        for handLms in results.multi_hand_landmarks:\n",
    "            for id, Im in enumerate (handLms.landmark):\n",
    "                #print(id, (m)\n",
    "\n",
    "                mpDraw.draw_landmarks(img, handLms, mpHands. HAND_CONNECTIONS)\n",
    "\n",
    "    cv2.putText(img, \"My Hand Detection Program\", (10, 50), cv2.FONT_HERSHEY_PLAIN, 2, (255,255,255), 2) \n",
    "\n",
    "    cv2.imshow(\"10Alytics Hand detection project\", img)\n",
    "    if cv2.waitKey(1) & 0xFF == ord('q'):\n",
    "        break\n",
    "\n",
    "# Release the capture once all the processing is done.\n",
    "capture.release()\n",
    "cv2.destroyAllWindows()"
   ]
  },
  {
   "cell_type": "markdown",
   "id": "416d2860",
   "metadata": {},
   "source": [
    "### Pose Detection"
   ]
  },
  {
   "cell_type": "code",
   "execution_count": 32,
   "id": "cf03b039",
   "metadata": {},
   "outputs": [],
   "source": [
    "# Leveraging the Mediapipe Library used for Pose detection\n",
    "\n",
    "mpPose = mp.solutions.pose\n",
    "\n",
    "pose = mpPose.Pose()\n",
    "\n",
    "#pose mppose. Pose(static_image mode False, upper body only=False, smooth_Landmarks=True, min_detection_confidence-0.5 I\n",
    "\n",
    "# To draw and connect the Landmarks\n",
    "\n",
    "mpDraw = mp.solutions.drawing_utils"
   ]
  },
  {
   "cell_type": "code",
   "execution_count": 33,
   "id": "e8006014",
   "metadata": {},
   "outputs": [],
   "source": [
    "while True:\n",
    "    _, img = capture.read()\n",
    "    \n",
    "    #Convert video/Image from BGR to RGB\n",
    "    imgRGB = cv2.cvtColor(img, cv2.COLOR_BGR2RGB)\n",
    "\n",
    "    #Apply the mediapipe pose detection module for detection\n",
    "    results = pose.process(imgRGB)\n",
    "    #print(results.pose landmarks)\n",
    "\n",
    "    #Draw Landmarks\n",
    "    if results.pose_landmarks:\n",
    "        mpDraw.draw_landmarks(img, results.pose_landmarks, mpPose. POSE_CONNECTIONS)\n",
    "\n",
    "    cv2.putText(img, \"My Pose Detection\", (10, 50), cv2. FONT_HERSHEY_PLAIN, 2, (255,255,255), 2)\n",
    "\n",
    "    cv2.imshow(\"10Alytics Pose Detection\", img)\n",
    "\n",
    "    if cv2.waitKey(1) & 0xFF == ord('q'):\n",
    "        break\n",
    "\n",
    "# Release the capture once all the processing is done.\n",
    "capture.release()\n",
    "cv2.destroyAllWindows()"
   ]
  },
  {
   "cell_type": "code",
   "execution_count": null,
   "id": "7564cb9d",
   "metadata": {},
   "outputs": [],
   "source": []
  },
  {
   "cell_type": "code",
   "execution_count": null,
   "id": "32436df2",
   "metadata": {},
   "outputs": [],
   "source": []
  },
  {
   "cell_type": "code",
   "execution_count": null,
   "id": "6d3715da",
   "metadata": {},
   "outputs": [],
   "source": []
  }
 ],
 "metadata": {
  "kernelspec": {
   "display_name": "Python 3 (ipykernel)",
   "language": "python",
   "name": "python3"
  },
  "language_info": {
   "codemirror_mode": {
    "name": "ipython",
    "version": 3
   },
   "file_extension": ".py",
   "mimetype": "text/x-python",
   "name": "python",
   "nbconvert_exporter": "python",
   "pygments_lexer": "ipython3",
   "version": "3.11.3"
  }
 },
 "nbformat": 4,
 "nbformat_minor": 5
}
